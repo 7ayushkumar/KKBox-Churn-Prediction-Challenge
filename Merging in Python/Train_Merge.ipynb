{
 "cells": [
  {
   "cell_type": "code",
   "execution_count": 44,
   "metadata": {
    "collapsed": true
   },
   "outputs": [],
   "source": [
    "import pandas as pd"
   ]
  },
  {
   "cell_type": "code",
   "execution_count": 69,
   "metadata": {
    "collapsed": false
   },
   "outputs": [],
   "source": [
    "a = pd.read_csv(\"train.csv\")\n",
    "b = pd.read_csv(\"train_v2.csv\")\n",
    "merged = a.append(b)\n",
    "merged.to_csv(\"train_merged1.csv\", index=False)"
   ]
  },
  {
   "cell_type": "code",
   "execution_count": 71,
   "metadata": {
    "collapsed": false
   },
   "outputs": [
    {
     "data": {
      "text/html": [
       "<div>\n",
       "<table border=\"1\" class=\"dataframe\">\n",
       "  <thead>\n",
       "    <tr style=\"text-align: right;\">\n",
       "      <th></th>\n",
       "      <th>msno</th>\n",
       "      <th>is_churn</th>\n",
       "    </tr>\n",
       "  </thead>\n",
       "  <tbody>\n",
       "    <tr>\n",
       "      <th>0</th>\n",
       "      <td>waLDQMmcOu2jLDaV1ddDkgCrB/jl6sD66Xzs0Vqax1Y=</td>\n",
       "      <td>1</td>\n",
       "    </tr>\n",
       "    <tr>\n",
       "      <th>1</th>\n",
       "      <td>QA7uiXy8vIbUSPOkCf9RwQ3FsT8jVq2OxDr8zqa7bRQ=</td>\n",
       "      <td>1</td>\n",
       "    </tr>\n",
       "    <tr>\n",
       "      <th>2</th>\n",
       "      <td>fGwBva6hikQmTJzrbz/2Ezjm5Cth5jZUNvXigKK2AFA=</td>\n",
       "      <td>1</td>\n",
       "    </tr>\n",
       "    <tr>\n",
       "      <th>3</th>\n",
       "      <td>mT5V8rEpa+8wuqi6x0DoVd3H5icMKkE9Prt49UlmK+4=</td>\n",
       "      <td>1</td>\n",
       "    </tr>\n",
       "    <tr>\n",
       "      <th>4</th>\n",
       "      <td>XaPhtGLk/5UvvOYHcONTwsnH97P4eGECeq+BARGItRw=</td>\n",
       "      <td>1</td>\n",
       "    </tr>\n",
       "  </tbody>\n",
       "</table>\n",
       "</div>"
      ],
      "text/plain": [
       "                                           msno  is_churn\n",
       "0  waLDQMmcOu2jLDaV1ddDkgCrB/jl6sD66Xzs0Vqax1Y=         1\n",
       "1  QA7uiXy8vIbUSPOkCf9RwQ3FsT8jVq2OxDr8zqa7bRQ=         1\n",
       "2  fGwBva6hikQmTJzrbz/2Ezjm5Cth5jZUNvXigKK2AFA=         1\n",
       "3  mT5V8rEpa+8wuqi6x0DoVd3H5icMKkE9Prt49UlmK+4=         1\n",
       "4  XaPhtGLk/5UvvOYHcONTwsnH97P4eGECeq+BARGItRw=         1"
      ]
     },
     "execution_count": 71,
     "metadata": {},
     "output_type": "execute_result"
    }
   ],
   "source": [
    "merged.head()"
   ]
  },
  {
   "cell_type": "code",
   "execution_count": 47,
   "metadata": {
    "collapsed": false
   },
   "outputs": [
    {
     "data": {
      "text/plain": [
       "(1963891, 2)"
      ]
     },
     "execution_count": 47,
     "metadata": {},
     "output_type": "execute_result"
    }
   ],
   "source": [
    "merged.shape"
   ]
  },
  {
   "cell_type": "code",
   "execution_count": 77,
   "metadata": {
    "collapsed": false
   },
   "outputs": [],
   "source": [
    "final=merged['msno']"
   ]
  },
  {
   "cell_type": "code",
   "execution_count": 84,
   "metadata": {
    "collapsed": false
   },
   "outputs": [],
   "source": [
    "final.to_csv(\"train_merged_final.csv\", index=False, header=True)"
   ]
  },
  {
   "cell_type": "code",
   "execution_count": 79,
   "metadata": {
    "collapsed": false
   },
   "outputs": [
    {
     "data": {
      "text/plain": [
       "0    waLDQMmcOu2jLDaV1ddDkgCrB/jl6sD66Xzs0Vqax1Y=\n",
       "1    QA7uiXy8vIbUSPOkCf9RwQ3FsT8jVq2OxDr8zqa7bRQ=\n",
       "2    fGwBva6hikQmTJzrbz/2Ezjm5Cth5jZUNvXigKK2AFA=\n",
       "3    mT5V8rEpa+8wuqi6x0DoVd3H5icMKkE9Prt49UlmK+4=\n",
       "4    XaPhtGLk/5UvvOYHcONTwsnH97P4eGECeq+BARGItRw=\n",
       "Name: msno, dtype: object"
      ]
     },
     "execution_count": 79,
     "metadata": {},
     "output_type": "execute_result"
    }
   ],
   "source": [
    "final.head()"
   ]
  },
  {
   "cell_type": "code",
   "execution_count": 85,
   "metadata": {
    "collapsed": false
   },
   "outputs": [
    {
     "data": {
      "text/plain": [
       "0         waLDQMmcOu2jLDaV1ddDkgCrB/jl6sD66Xzs0Vqax1Y=\n",
       "1         QA7uiXy8vIbUSPOkCf9RwQ3FsT8jVq2OxDr8zqa7bRQ=\n",
       "2         fGwBva6hikQmTJzrbz/2Ezjm5Cth5jZUNvXigKK2AFA=\n",
       "3         mT5V8rEpa+8wuqi6x0DoVd3H5icMKkE9Prt49UlmK+4=\n",
       "4         XaPhtGLk/5UvvOYHcONTwsnH97P4eGECeq+BARGItRw=\n",
       "5         GBy8qSz16X5iYWD+3CMxv/Hm6OPSrXBYtmbnlRtknW0=\n",
       "6         lYLh7TdkWpIoQs3i3o6mIjLH8/IEgMWP9r7OpsLX0Vo=\n",
       "7         T0FF6lumjKcqEO0O+tUH2ytc+Kb9EkeaLzcVUiTr1aE=\n",
       "8         Nb1ZGEmagQeba5E+nQj8VlQoWl+8SFmLZu+Y8ytIamw=\n",
       "9         MkuWz0Nq6/Oq5fKqRddWL7oh2SLUSRe3/g+XmAWqW1Q=\n",
       "10        I8dFN2EjFN1mt4Xel8WQX1/g7u6Dg4PBMHLkiDjhUS8=\n",
       "11        0Ip2rzeoa44alqEw3daokOIJ5pRlKsuvSXpFiVfz6/U=\n",
       "12        piVhWxrWDmiNQFY6x+geStHfdT+nyD9lgXq05MSi7So=\n",
       "13        wEUOkYvyz3xTOx2p9z2Xcs4OzYsH/ZrNFUKZ+KFPf0M=\n",
       "14        xt4EjWRyXBMgEgKBJy63klKN6wIIR31t1K771V2Glps=\n",
       "15        QS3ob4zLlWcWzBIlbsd6lQIA3nJusPs6rNDVSEpQO2k=\n",
       "16        9iW/UpqRoviya9CQh64RoYLPjiws8+biwscN+g5qYm4=\n",
       "17        d7QVMhAzjj4yc1Ojjbf2SFJam90RaUcwNDe3NxHVluA=\n",
       "18        uV7rJjHPrpNssDMmY2OnfJnib8BUqeyvUxrIQnbRwek=\n",
       "19        TZxhkfZ9NwxqnUrNsMgMDj4SZi+p0Zv/oK9UsH5uqnc=\n",
       "20        +THH2QTeGyADYlZvoaYUXCyoS1iLQsHq59ElGxwwGlE=\n",
       "21        wg4yOboT6sUngC4shyVWcuz+hXBVQsOVZItR0a11nWs=\n",
       "22        kYnZ7h7NB99UtEeBw5zHgcyvEIHApNXQh8VSDPXe0XM=\n",
       "23        ngHjqujoWJdkjMy+0t8IATYeN2NAhN/yIYszLXAyfSc=\n",
       "24        0GRiDbTd5wZPaFzO5CFnSUzZ/96Tbi5cbRzlV4Ts/Q8=\n",
       "25        BJfEs9V27SKREEiSEB94PdWU0c9kz5xpe2mEv09nTO0=\n",
       "26        LUCi7i5FeNuZz4DB0zKu8J80rgr2uCO8YHCSW9PZfAk=\n",
       "27        Q3zQXIS9cOKLdgyF1IIQkm4xEiF9cgIuK3dxTdXN6As=\n",
       "28        qCagaTL3UbMn0zvdMDDUoonbei70q1eASKrXa1cZGCs=\n",
       "29        nsx5IGkCueevv0vFHB4jkG0HdRl6m6ltB8U9Guo5nS0=\n",
       "                              ...                     \n",
       "970187    Br9k8py1P1dMy/9BBkzIoduz5J0XBGCReo015blVBIM=\n",
       "970206    FFaf010rHzsfD6zZIY37bQ5bsOypxz6v6ojokrRIrPM=\n",
       "970216    raeglUqYzzUnW6BVlmQafDT4NDDvdG+7/1KiiZuzUaQ=\n",
       "970233    DWpEIUqKHoFsDDHzkSe937O9eBj6GANM4ClUZS+m5jY=\n",
       "970242    cVvWkpchb7w9LzlfnQSH24EbW+NsLxwktumykP+sVrE=\n",
       "970265    oT8bvn5uJu73Q8pXG2eIJw39582T1f80KNzg9rlXfuM=\n",
       "970338    Fm+/hAh5hRvjquvC6rXoicwhoN8TAFat62xcb3Jmu9E=\n",
       "970372    ZKHYfb5LyXd+kKDlcnIsgpktn3bZxiSu2u3Bk2Iq8Hw=\n",
       "970379    +NTQb+tE4/TbiU4G8Iznh7basm74cAlV8h1ZK2qPIj0=\n",
       "970449    OcOk4O3Yxa/6+lNj9jZ8O5b6CtK0LFzxBG83CJhRuto=\n",
       "970453    1wEFco0Sqt8hYi9n0bNOSqncBiVLu+oeyG8g2qS05jY=\n",
       "970463    lCbjdTaAWKr/PD3H9TJW7JsWFbsiaVf65y0RvgjiFqY=\n",
       "970464    hVONIw1guNnm0tFnFacosDXejqfsL2SGnXPDIzb01ZQ=\n",
       "970502    tSE9v156XWHzopjDCwI2Tl9/QzPYLufq+Edn4PlQzmg=\n",
       "970569    DlBR4Rj5w9amNjvY/MX6PlRc6M5VvN+ZSXrQmlxd9ac=\n",
       "970573    ynM/jhsm670Jm3jGHJ5Q9ihXQ0Y6DHpxeeee/NYPcXU=\n",
       "970609    DchJOVUsIyomD6It7WtcpYX1Lg/qRNVAPGvGUA+GW7Q=\n",
       "970611    RNKv/3SG9WfyiacU3c/gpN061XwpmyRXGkKGj3jubZ4=\n",
       "970612    yGA73xYagW1BOKVc5WQbRdSXgtNLr3Y13KuYteCeq4k=\n",
       "970615    eJ2DlcTtJP1FuBZ75j8EHCqR66YS2hsd1ZrZC6qELVI=\n",
       "970630    jDAl2FSFWidabFy7ZTvisuqLrQZeTe2yTR0mKW3zRIg=\n",
       "970686    XKkDORe83phH4UCLaaeg/y62R/DCdg41hBPGsnqQDOI=\n",
       "970794    VKa7zJCmhhjkr+A4hAbi98aDr4KL/ARNJkzrdwQwHbY=\n",
       "970812    UuF2WmSg39BBBGq9aPVr1ro8rqpvVjrjlg7iOeoCisk=\n",
       "970848    btjshw52GnTLnaFH6s5KSaJx1DUCBkI3+PwXt43OGjg=\n",
       "970849    IYf8gpp9tSRtEbhzznxAHgxccHLYAk8nQjym30r0QN8=\n",
       "970872    63G20sIq/6SVvq84zXokoi5J9UAaBh7r0Ezy00IZ+Hc=\n",
       "970873    iMxD8Z2I9JJfgExvaEWyAcioxooG1D9EK3D0uDiy84s=\n",
       "970874    3y7mekzJxMIoQ6V+pfPt5aq1DvZRgm7K/GHOBhijG/E=\n",
       "970943    Zkuhc7S+hhMgLkKft6lfrsyi2XHDo6WH7QDdXlringE=\n",
       "Name: msno, dtype: object"
      ]
     },
     "execution_count": 85,
     "metadata": {},
     "output_type": "execute_result"
    }
   ],
   "source": [
    "final.T.drop_duplicates().T"
   ]
  },
  {
   "cell_type": "code",
   "execution_count": 86,
   "metadata": {
    "collapsed": true
   },
   "outputs": [],
   "source": [
    "z=final.T.drop_duplicates().T"
   ]
  },
  {
   "cell_type": "code",
   "execution_count": 87,
   "metadata": {
    "collapsed": false
   },
   "outputs": [
    {
     "data": {
      "text/plain": [
       "(1082190,)"
      ]
     },
     "execution_count": 87,
     "metadata": {},
     "output_type": "execute_result"
    }
   ],
   "source": [
    "z.shape"
   ]
  },
  {
   "cell_type": "code",
   "execution_count": 88,
   "metadata": {
    "collapsed": true
   },
   "outputs": [],
   "source": [
    "z.to_csv(\"train_merged.csv\", index=False, header=True)"
   ]
  },
  {
   "cell_type": "code",
   "execution_count": null,
   "metadata": {
    "collapsed": true
   },
   "outputs": [],
   "source": []
  }
 ],
 "metadata": {
  "kernelspec": {
   "display_name": "Python 3",
   "language": "python",
   "name": "python3"
  },
  "language_info": {
   "codemirror_mode": {
    "name": "ipython",
    "version": 3
   },
   "file_extension": ".py",
   "mimetype": "text/x-python",
   "name": "python",
   "nbconvert_exporter": "python",
   "pygments_lexer": "ipython3",
   "version": "3.6.0"
  }
 },
 "nbformat": 4,
 "nbformat_minor": 2
}
